{
 "cells": [
  {
   "cell_type": "markdown",
   "id": "6c188c41",
   "metadata": {},
   "source": [
    "# Linear Regression using TensorFlow"
   ]
  },
  {
   "cell_type": "markdown",
   "id": "b7388ad7",
   "metadata": {},
   "source": [
    "## Import the necessary libraries"
   ]
  },
  {
   "cell_type": "code",
   "execution_count": 1,
   "id": "1eb1fd3e",
   "metadata": {},
   "outputs": [],
   "source": [
    "from sklearn.datasets import fetch_california_housing\n",
    "from sklearn.model_selection import train_test_split\n",
    "from sklearn.preprocessing import StandardScaler\n",
    "import tensorflow as tf\n",
    "from tensorflow import keras\n",
    "from sklearn.metrics import accuracy_score"
   ]
  },
  {
   "cell_type": "markdown",
   "id": "18de9021",
   "metadata": {},
   "source": [
    "## Fetch the data (here california housing dataset is used)"
   ]
  },
  {
   "cell_type": "code",
   "execution_count": 2,
   "id": "77872337",
   "metadata": {},
   "outputs": [
    {
     "data": {
      "text/plain": [
       "{'data': array([[   8.3252    ,   41.        ,    6.98412698, ...,    2.55555556,\n",
       "           37.88      , -122.23      ],\n",
       "        [   8.3014    ,   21.        ,    6.23813708, ...,    2.10984183,\n",
       "           37.86      , -122.22      ],\n",
       "        [   7.2574    ,   52.        ,    8.28813559, ...,    2.80225989,\n",
       "           37.85      , -122.24      ],\n",
       "        ...,\n",
       "        [   1.7       ,   17.        ,    5.20554273, ...,    2.3256351 ,\n",
       "           39.43      , -121.22      ],\n",
       "        [   1.8672    ,   18.        ,    5.32951289, ...,    2.12320917,\n",
       "           39.43      , -121.32      ],\n",
       "        [   2.3886    ,   16.        ,    5.25471698, ...,    2.61698113,\n",
       "           39.37      , -121.24      ]]),\n",
       " 'target': array([4.526, 3.585, 3.521, ..., 0.923, 0.847, 0.894]),\n",
       " 'frame': None,\n",
       " 'target_names': ['MedHouseVal'],\n",
       " 'feature_names': ['MedInc',\n",
       "  'HouseAge',\n",
       "  'AveRooms',\n",
       "  'AveBedrms',\n",
       "  'Population',\n",
       "  'AveOccup',\n",
       "  'Latitude',\n",
       "  'Longitude'],\n",
       " 'DESCR': '.. _california_housing_dataset:\\n\\nCalifornia Housing dataset\\n--------------------------\\n\\n**Data Set Characteristics:**\\n\\n    :Number of Instances: 20640\\n\\n    :Number of Attributes: 8 numeric, predictive attributes and the target\\n\\n    :Attribute Information:\\n        - MedInc        median income in block group\\n        - HouseAge      median house age in block group\\n        - AveRooms      average number of rooms per household\\n        - AveBedrms     average number of bedrooms per household\\n        - Population    block group population\\n        - AveOccup      average number of household members\\n        - Latitude      block group latitude\\n        - Longitude     block group longitude\\n\\n    :Missing Attribute Values: None\\n\\nThis dataset was obtained from the StatLib repository.\\nhttps://www.dcc.fc.up.pt/~ltorgo/Regression/cal_housing.html\\n\\nThe target variable is the median house value for California districts,\\nexpressed in hundreds of thousands of dollars ($100,000).\\n\\nThis dataset was derived from the 1990 U.S. census, using one row per census\\nblock group. A block group is the smallest geographical unit for which the U.S.\\nCensus Bureau publishes sample data (a block group typically has a population\\nof 600 to 3,000 people).\\n\\nA household is a group of people residing within a home. Since the average\\nnumber of rooms and bedrooms in this dataset are provided per household, these\\ncolumns may take surprisingly large values for block groups with few households\\nand many empty houses, such as vacation resorts.\\n\\nIt can be downloaded/loaded using the\\n:func:`sklearn.datasets.fetch_california_housing` function.\\n\\n.. topic:: References\\n\\n    - Pace, R. Kelley and Ronald Barry, Sparse Spatial Autoregressions,\\n      Statistics and Probability Letters, 33 (1997) 291-297\\n'}"
      ]
     },
     "execution_count": 2,
     "metadata": {},
     "output_type": "execute_result"
    }
   ],
   "source": [
    "housing = fetch_california_housing()\n",
    "housing"
   ]
  },
  {
   "cell_type": "markdown",
   "id": "03f3655d",
   "metadata": {},
   "source": [
    "## Data Preprocessing"
   ]
  },
  {
   "cell_type": "markdown",
   "id": "12f2c4d1",
   "metadata": {},
   "source": [
    "### Splitting the full data into train and test"
   ]
  },
  {
   "cell_type": "code",
   "execution_count": 3,
   "id": "32450335",
   "metadata": {},
   "outputs": [
    {
     "data": {
      "text/plain": [
       "(array([[   4.6053    ,   30.        ,    4.46795435, ...,    1.69885865,\n",
       "           37.76      , -122.44      ],\n",
       "        [   3.3906    ,   33.        ,    5.69555035, ...,    2.68618267,\n",
       "           32.78      , -116.95      ],\n",
       "        [   5.2806    ,   47.        ,    4.48533333, ...,    2.232     ,\n",
       "           37.78      , -122.46      ],\n",
       "        ...,\n",
       "        [   3.2663    ,   19.        ,    3.604913  , ...,    1.86284545,\n",
       "           34.04      , -118.46      ],\n",
       "        [   7.1572    ,   25.        ,    7.70588235, ...,    3.07969639,\n",
       "           33.76      , -118.04      ],\n",
       "        [   3.0965    ,   16.        ,    3.32477169, ...,    1.93493151,\n",
       "           34.02      , -118.41      ]]),\n",
       " array([[   1.7054    ,   39.        ,    3.90082645, ...,    3.38347107,\n",
       "           37.63      , -120.97      ],\n",
       "        [   2.6442    ,   34.        ,    6.18592965, ...,    4.22613065,\n",
       "           34.01      , -117.41      ],\n",
       "        [   2.3382    ,   19.        ,    4.05989111, ...,    2.60980036,\n",
       "           37.97      , -122.34      ],\n",
       "        ...,\n",
       "        [   4.2554    ,   50.        ,    6.36538462, ...,    2.58461538,\n",
       "           34.02      , -118.32      ],\n",
       "        [   5.4284    ,    4.        ,    5.06722689, ...,    1.85714286,\n",
       "           33.65      , -117.86      ],\n",
       "        [   3.1964    ,   29.        ,    3.97790055, ...,    5.77348066,\n",
       "           33.74      , -117.88      ]]),\n",
       " array([3.861, 1.381, 4.   , ..., 3.375, 2.949, 3.2  ]),\n",
       " array([0.588  , 0.92   , 1.207  , ..., 1.943  , 5.00001, 1.519  ]))"
      ]
     },
     "execution_count": 3,
     "metadata": {},
     "output_type": "execute_result"
    }
   ],
   "source": [
    "X_train_full, X_test, y_train_full, y_test = train_test_split(housing.data, housing.target)\n",
    "X_train_full, X_test, y_train_full, y_test"
   ]
  },
  {
   "cell_type": "markdown",
   "id": "ab120fc0",
   "metadata": {},
   "source": [
    "### Splitting the training data "
   ]
  },
  {
   "cell_type": "code",
   "execution_count": 4,
   "id": "f3a4ed73",
   "metadata": {},
   "outputs": [
    {
     "data": {
      "text/plain": [
       "(array([[   4.9375    ,   19.        ,    4.61764706, ...,    2.34375   ,\n",
       "           33.87      , -118.36      ],\n",
       "        [   6.2045    ,   29.        ,    5.95192308, ...,    2.92548077,\n",
       "           37.31      , -122.04      ],\n",
       "        [   6.1943    ,   13.        ,    6.53246753, ...,    3.46753247,\n",
       "           38.68      , -121.25      ],\n",
       "        ...,\n",
       "        [   3.1429    ,   32.        ,    5.98951049, ...,    3.11538462,\n",
       "           33.11      , -117.09      ],\n",
       "        [   3.625     ,   20.        ,    3.56113903, ...,    1.86264657,\n",
       "           37.57      , -122.33      ],\n",
       "        [   3.5917    ,   22.        ,    5.41052632, ...,    2.88070175,\n",
       "           39.21      , -123.19      ]]),\n",
       " array([[   2.375     ,   11.        ,    5.96511628, ...,    2.37209302,\n",
       "           39.78      , -120.48      ],\n",
       "        [   3.9479    ,   35.        ,    5.36286201, ...,    3.59454855,\n",
       "           33.78      , -117.97      ],\n",
       "        [   2.4387    ,   34.        ,    2.74399038, ...,    3.64423077,\n",
       "           33.98      , -118.22      ],\n",
       "        ...,\n",
       "        [   5.3054    ,   36.        ,    5.86038961, ...,    2.86363636,\n",
       "           33.96      , -118.01      ],\n",
       "        [   7.2423    ,   52.        ,    7.875     , ...,    5.875     ,\n",
       "           33.89      , -118.17      ],\n",
       "        [   2.9327    ,   42.        ,    4.72705314, ...,    2.37922705,\n",
       "           34.18      , -118.39      ]]),\n",
       " array([2.93 , 3.938, 2.761, ..., 1.716, 2.833, 1.188]),\n",
       " array([1.   , 2.038, 1.75 , ..., 2.735, 3.5  , 2.402]))"
      ]
     },
     "execution_count": 4,
     "metadata": {},
     "output_type": "execute_result"
    }
   ],
   "source": [
    "X_train, X_valid, y_train, y_valid = train_test_split(X_train_full, y_train_full)\n",
    "X_train, X_valid, y_train, y_valid"
   ]
  },
  {
   "cell_type": "markdown",
   "id": "1e50085f",
   "metadata": {},
   "source": [
    "## Dimensionality Reduction using transform and fit transform"
   ]
  },
  {
   "cell_type": "code",
   "execution_count": 5,
   "id": "d654e706",
   "metadata": {},
   "outputs": [
    {
     "data": {
      "text/plain": [
       "array([[ 0.55699857, -0.77113174, -0.33874061, ..., -0.05915181,\n",
       "        -0.81896681,  0.59911607],\n",
       "       [ 1.22012201,  0.02706727,  0.21292832, ..., -0.01652659,\n",
       "         0.78841092, -1.23817849],\n",
       "       [ 1.21478353, -1.25005115,  0.45295987, ...,  0.02319122,\n",
       "         1.42855845, -0.84375928],\n",
       "       ...,\n",
       "       [-0.38226056,  0.26652697,  0.22846919, ..., -0.00261174,\n",
       "        -1.17408515,  1.2331824 ],\n",
       "       [-0.12993869, -0.69131184, -0.77556376, ..., -0.09440375,\n",
       "         0.90989878, -1.38296529],\n",
       "       [-0.14736727, -0.53167204, -0.01091724, ..., -0.01980769,\n",
       "         1.67620677, -1.81233304]])"
      ]
     },
     "execution_count": 5,
     "metadata": {},
     "output_type": "execute_result"
    }
   ],
   "source": [
    "scaler = StandardScaler()\n",
    "X_train = scaler.fit_transform(X_train)\n",
    "X_train"
   ]
  },
  {
   "cell_type": "code",
   "execution_count": 6,
   "id": "39d557c1",
   "metadata": {},
   "outputs": [
    {
     "data": {
      "text/plain": [
       "array([[-0.78416465, -1.40969095,  0.21838318, ..., -0.05707503,\n",
       "         1.94254552, -0.45932536],\n",
       "       [ 0.03906096,  0.50598667, -0.0306245 , ...,  0.03249809,\n",
       "        -0.8610203 ,  0.79382936],\n",
       "       [-0.7508253 ,  0.42616677, -1.11342152, ...,  0.03613846,\n",
       "        -0.76756811,  0.66901315],\n",
       "       ...,\n",
       "       [ 0.74955036,  0.58580657,  0.17508295, ..., -0.02105812,\n",
       "        -0.77691333,  0.77385876],\n",
       "       [ 1.76328658,  1.86292498,  1.0080425 , ...,  0.19959384,\n",
       "        -0.80962159,  0.69397639],\n",
       "       [-0.4922752 ,  1.06472598, -0.29350564, ..., -0.05655229,\n",
       "        -0.67411591,  0.58413813]])"
      ]
     },
     "execution_count": 6,
     "metadata": {},
     "output_type": "execute_result"
    }
   ],
   "source": [
    "X_valid = scaler.transform(X_valid)\n",
    "X_valid"
   ]
  },
  {
   "cell_type": "code",
   "execution_count": 7,
   "id": "88b6fd00",
   "metadata": {},
   "outputs": [
    {
     "data": {
      "text/plain": [
       "array([[-1.13462042,  0.82526627, -0.63511681, ...,  0.01703178,\n",
       "         0.93793443, -0.70396513],\n",
       "       [-0.64327055,  0.42616677,  0.30968053, ...,  0.07877607,\n",
       "        -0.75355028,  1.07341766],\n",
       "       [-0.80342507, -0.77113174, -0.56935003, ..., -0.03965747,\n",
       "         1.09680316, -1.38795794],\n",
       "       ...,\n",
       "       [ 0.20000055,  1.70328518,  0.38387787, ..., -0.04150285,\n",
       "        -0.74887767,  0.61908667],\n",
       "       [ 0.81392619, -1.96843025, -0.15285761, ..., -0.09480702,\n",
       "        -0.92176423,  0.84874849],\n",
       "       [-0.35425969,  0.02706727, -0.6032498 , ...,  0.1921552 ,\n",
       "        -0.87971074,  0.83876319]])"
      ]
     },
     "execution_count": 7,
     "metadata": {},
     "output_type": "execute_result"
    }
   ],
   "source": [
    "X_test = scaler.transform(X_test)\n",
    "X_test"
   ]
  },
  {
   "cell_type": "markdown",
   "id": "4458974a",
   "metadata": {},
   "source": [
    "# Training"
   ]
  },
  {
   "cell_type": "markdown",
   "id": "7ab0af11",
   "metadata": {},
   "source": [
    "### Selecting the model for neural network with the activation function "
   ]
  },
  {
   "cell_type": "code",
   "execution_count": 9,
   "id": "f5f3b629",
   "metadata": {},
   "outputs": [],
   "source": [
    "model = keras.models.Sequential([keras.layers.Dense(30, activation=\"relu\", input_shape=X_train.shape[1:]), keras.layers.Dense(1)])\n",
    "model.compile(loss=\"mean_squared_error\", optimizer=\"sgd\")"
   ]
  },
  {
   "cell_type": "markdown",
   "id": "0ad78e0a",
   "metadata": {},
   "source": [
    "### Training the model "
   ]
  },
  {
   "cell_type": "code",
   "execution_count": 10,
   "id": "66af5d09",
   "metadata": {},
   "outputs": [
    {
     "name": "stdout",
     "output_type": "stream",
     "text": [
      "Epoch 1/20\n",
      "\u001b[1m363/363\u001b[0m \u001b[32m━━━━━━━━━━━━━━━━━━━━\u001b[0m\u001b[37m\u001b[0m \u001b[1m0s\u001b[0m 830us/step - loss: 1.3878 - val_loss: 0.5445\n",
      "Epoch 2/20\n",
      "\u001b[1m363/363\u001b[0m \u001b[32m━━━━━━━━━━━━━━━━━━━━\u001b[0m\u001b[37m\u001b[0m \u001b[1m0s\u001b[0m 600us/step - loss: 0.5569 - val_loss: 0.4794\n",
      "Epoch 3/20\n",
      "\u001b[1m363/363\u001b[0m \u001b[32m━━━━━━━━━━━━━━━━━━━━\u001b[0m\u001b[37m\u001b[0m \u001b[1m0s\u001b[0m 597us/step - loss: 0.4879 - val_loss: 0.4456\n",
      "Epoch 4/20\n",
      "\u001b[1m363/363\u001b[0m \u001b[32m━━━━━━━━━━━━━━━━━━━━\u001b[0m\u001b[37m\u001b[0m \u001b[1m0s\u001b[0m 598us/step - loss: 0.4701 - val_loss: 0.4403\n",
      "Epoch 5/20\n",
      "\u001b[1m363/363\u001b[0m \u001b[32m━━━━━━━━━━━━━━━━━━━━\u001b[0m\u001b[37m\u001b[0m \u001b[1m0s\u001b[0m 595us/step - loss: 0.4488 - val_loss: 0.4208\n",
      "Epoch 6/20\n",
      "\u001b[1m363/363\u001b[0m \u001b[32m━━━━━━━━━━━━━━━━━━━━\u001b[0m\u001b[37m\u001b[0m \u001b[1m0s\u001b[0m 639us/step - loss: 0.4372 - val_loss: 0.4117\n",
      "Epoch 7/20\n",
      "\u001b[1m363/363\u001b[0m \u001b[32m━━━━━━━━━━━━━━━━━━━━\u001b[0m\u001b[37m\u001b[0m \u001b[1m0s\u001b[0m 594us/step - loss: 0.4382 - val_loss: 0.4018\n",
      "Epoch 8/20\n",
      "\u001b[1m363/363\u001b[0m \u001b[32m━━━━━━━━━━━━━━━━━━━━\u001b[0m\u001b[37m\u001b[0m \u001b[1m0s\u001b[0m 598us/step - loss: 0.4230 - val_loss: 0.3955\n",
      "Epoch 9/20\n",
      "\u001b[1m363/363\u001b[0m \u001b[32m━━━━━━━━━━━━━━━━━━━━\u001b[0m\u001b[37m\u001b[0m \u001b[1m0s\u001b[0m 650us/step - loss: 0.4100 - val_loss: 0.3954\n",
      "Epoch 10/20\n",
      "\u001b[1m363/363\u001b[0m \u001b[32m━━━━━━━━━━━━━━━━━━━━\u001b[0m\u001b[37m\u001b[0m \u001b[1m0s\u001b[0m 632us/step - loss: 0.4232 - val_loss: 0.3888\n",
      "Epoch 11/20\n",
      "\u001b[1m363/363\u001b[0m \u001b[32m━━━━━━━━━━━━━━━━━━━━\u001b[0m\u001b[37m\u001b[0m \u001b[1m0s\u001b[0m 643us/step - loss: 0.4228 - val_loss: 0.3866\n",
      "Epoch 12/20\n",
      "\u001b[1m363/363\u001b[0m \u001b[32m━━━━━━━━━━━━━━━━━━━━\u001b[0m\u001b[37m\u001b[0m \u001b[1m0s\u001b[0m 591us/step - loss: 0.4048 - val_loss: 0.3807\n",
      "Epoch 13/20\n",
      "\u001b[1m363/363\u001b[0m \u001b[32m━━━━━━━━━━━━━━━━━━━━\u001b[0m\u001b[37m\u001b[0m \u001b[1m0s\u001b[0m 598us/step - loss: 0.3904 - val_loss: 0.5836\n",
      "Epoch 14/20\n",
      "\u001b[1m363/363\u001b[0m \u001b[32m━━━━━━━━━━━━━━━━━━━━\u001b[0m\u001b[37m\u001b[0m \u001b[1m0s\u001b[0m 597us/step - loss: 0.6532 - val_loss: 0.3780\n",
      "Epoch 15/20\n",
      "\u001b[1m363/363\u001b[0m \u001b[32m━━━━━━━━━━━━━━━━━━━━\u001b[0m\u001b[37m\u001b[0m \u001b[1m0s\u001b[0m 597us/step - loss: 0.4036 - val_loss: 0.3711\n",
      "Epoch 16/20\n",
      "\u001b[1m363/363\u001b[0m \u001b[32m━━━━━━━━━━━━━━━━━━━━\u001b[0m\u001b[37m\u001b[0m \u001b[1m0s\u001b[0m 597us/step - loss: 0.4080 - val_loss: 0.4029\n",
      "Epoch 17/20\n",
      "\u001b[1m363/363\u001b[0m \u001b[32m━━━━━━━━━━━━━━━━━━━━\u001b[0m\u001b[37m\u001b[0m \u001b[1m0s\u001b[0m 601us/step - loss: 0.3771 - val_loss: 0.3691\n",
      "Epoch 18/20\n",
      "\u001b[1m363/363\u001b[0m \u001b[32m━━━━━━━━━━━━━━━━━━━━\u001b[0m\u001b[37m\u001b[0m \u001b[1m0s\u001b[0m 596us/step - loss: 0.3912 - val_loss: 0.3725\n",
      "Epoch 19/20\n",
      "\u001b[1m363/363\u001b[0m \u001b[32m━━━━━━━━━━━━━━━━━━━━\u001b[0m\u001b[37m\u001b[0m \u001b[1m0s\u001b[0m 596us/step - loss: 0.3950 - val_loss: 0.3634\n",
      "Epoch 20/20\n",
      "\u001b[1m363/363\u001b[0m \u001b[32m━━━━━━━━━━━━━━━━━━━━\u001b[0m\u001b[37m\u001b[0m \u001b[1m0s\u001b[0m 602us/step - loss: 0.3773 - val_loss: 0.3607\n"
     ]
    }
   ],
   "source": [
    "history = model.fit(X_train, y_train, epochs=20,\n",
    "validation_data=(X_valid, y_valid))"
   ]
  },
  {
   "cell_type": "markdown",
   "id": "1109d6d4",
   "metadata": {},
   "source": [
    "## Evaluation"
   ]
  },
  {
   "cell_type": "markdown",
   "id": "c14e461e",
   "metadata": {},
   "source": [
    "### Mean Square Error test"
   ]
  },
  {
   "cell_type": "code",
   "execution_count": 11,
   "id": "b045d539",
   "metadata": {},
   "outputs": [
    {
     "name": "stdout",
     "output_type": "stream",
     "text": [
      "\u001b[1m162/162\u001b[0m \u001b[32m━━━━━━━━━━━━━━━━━━━━\u001b[0m\u001b[37m\u001b[0m \u001b[1m0s\u001b[0m 392us/step - loss: 0.3805\n"
     ]
    },
    {
     "data": {
      "text/plain": [
       "0.39877045154571533"
      ]
     },
     "execution_count": 11,
     "metadata": {},
     "output_type": "execute_result"
    }
   ],
   "source": [
    "mse_test = model.evaluate(X_test, y_test)\n",
    "mse_test"
   ]
  },
  {
   "cell_type": "markdown",
   "id": "a3da2161",
   "metadata": {},
   "source": [
    "### Testing for new instances"
   ]
  },
  {
   "cell_type": "code",
   "execution_count": 12,
   "id": "44ffd113",
   "metadata": {},
   "outputs": [
    {
     "data": {
      "text/plain": [
       "array([[-1.13462042,  0.82526627, -0.63511681, -0.19139976,  0.5645559 ,\n",
       "         0.01703178,  0.93793443, -0.70396513],\n",
       "       [-0.64327055,  0.42616677,  0.30968053, -0.0231091 , -0.52968304,\n",
       "         0.07877607, -0.75355028,  1.07341766],\n",
       "       [-0.80342507, -0.77113174, -0.56935003, -0.09031679,  0.01199245,\n",
       "        -0.03965747,  1.09680316, -1.38795794]])"
      ]
     },
     "execution_count": 12,
     "metadata": {},
     "output_type": "execute_result"
    }
   ],
   "source": [
    "X_new = X_test[:3] # pretend these are new instances\n",
    "X_new"
   ]
  },
  {
   "cell_type": "markdown",
   "id": "55034f8c",
   "metadata": {},
   "source": [
    "### Predicting for new instances"
   ]
  },
  {
   "cell_type": "code",
   "execution_count": 13,
   "id": "674184c2",
   "metadata": {},
   "outputs": [
    {
     "name": "stdout",
     "output_type": "stream",
     "text": [
      "\u001b[1m1/1\u001b[0m \u001b[32m━━━━━━━━━━━━━━━━━━━━\u001b[0m\u001b[37m\u001b[0m \u001b[1m0s\u001b[0m 33ms/step\n"
     ]
    },
    {
     "data": {
      "text/plain": [
       "array([[0.8186285 ],\n",
       "       [0.82131505],\n",
       "       [1.6618688 ]], dtype=float32)"
      ]
     },
     "execution_count": 13,
     "metadata": {},
     "output_type": "execute_result"
    }
   ],
   "source": [
    "y_pred = model.predict(X_new)\n",
    "y_pred"
   ]
  },
  {
   "cell_type": "markdown",
   "id": "85714124",
   "metadata": {},
   "source": [
    "## Finding the loss"
   ]
  },
  {
   "cell_type": "code",
   "execution_count": 14,
   "id": "18e3d337",
   "metadata": {},
   "outputs": [
    {
     "data": {
      "image/png": "[encoded data removed]",
      "text/plain": [
       "<Figure size 800x500 with 1 Axes>"
      ]
     },
     "metadata": {},
     "output_type": "display_data"
    }
   ],
   "source": [
    "import pandas as pd\n",
    "import matplotlib.pyplot as plt\n",
    "pd.DataFrame(history.history).plot(figsize=(8, 5))\n",
    "plt.grid(True)\n",
    "plt.gca().set_ylim(0, 1) \n",
    "plt.show()"
   ]
  },
  {
   "cell_type": "code",
   "execution_count": null,
   "id": "8623fae6",
   "metadata": {},
   "outputs": [],
   "source": []
  }
 ],
 "metadata": {
  "kernelspec": {
   "display_name": "Python 3 (ipykernel)",
   "language": "python",
   "name": "python3"
  },
  "language_info": {
   "codemirror_mode": {
    "name": "ipython",
    "version": 3
   },
   "file_extension": ".py",
   "mimetype": "text/x-python",
   "name": "python",
   "nbconvert_exporter": "python",
   "pygments_lexer": "ipython3",
   "version": "3.11.3"
  }
 },
 "nbformat": 4,
 "nbformat_minor": 5
}
